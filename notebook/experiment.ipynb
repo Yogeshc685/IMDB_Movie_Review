{
 "cells": [
  {
   "cell_type": "markdown",
   "id": "3fb2ab63",
   "metadata": {},
   "source": [
    "### Word embeddings practical implimentation"
   ]
  },
  {
   "cell_type": "code",
   "execution_count": 1,
   "id": "6e2022c2",
   "metadata": {},
   "outputs": [],
   "source": [
    "from tensorflow.keras.preprocessing.text import one_hot"
   ]
  },
  {
   "cell_type": "code",
   "execution_count": 2,
   "id": "8ae52408",
   "metadata": {},
   "outputs": [],
   "source": [
    "### SEntences\n",
    "sent=[\"I love programming.\", \"Python is great.\", \"I enjoy learning new things.\",\n",
    "      \"Data science is fascinating.\", \"I like to solve problems.\",\"I appreciate good code.\", \"Machine learning is exciting.\",\n",
    "      \"I find algorithms interesting.\", \"I enjoy working with data.\", \"Programming is a valuable skill.\",\"I love to create software.\",\n",
    "      \"I enjoy building applications.\", \"I like to automate tasks.\", \"I find coding rewarding.\",\n",
    "      \"I appreciate elegant solutions.\", \"I enjoy debugging code.\", \"I like to optimize performance.\",\n",
    "      \"I find software development fulfilling.\", \"I enjoy collaborating on projects.\", \"I like to innovate.\",\n",
    "      \"I appreciate clean code.\", \"I enjoy learning new programming languages.\", ]"
   ]
  },
  {
   "cell_type": "code",
   "execution_count": 3,
   "id": "71918b07",
   "metadata": {},
   "outputs": [],
   "source": [
    "#Define the vocabulary size\n",
    "vocab_size=10000\n",
    "\n"
   ]
  },
  {
   "cell_type": "code",
   "execution_count": 4,
   "id": "c326deb2",
   "metadata": {},
   "outputs": [
    {
     "data": {
      "text/plain": [
       "[[653, 2696, 4507],\n",
       " [8469, 9033, 5491],\n",
       " [653, 9471, 5371, 2172, 3663],\n",
       " [9665, 1314, 9033, 9400],\n",
       " [653, 4223, 7354, 939, 8215],\n",
       " [653, 8002, 248, 3520],\n",
       " [7508, 5371, 9033, 8772],\n",
       " [653, 5275, 5253, 2777],\n",
       " [653, 9471, 5000, 9908, 9665],\n",
       " [4507, 9033, 6634, 4432, 5503],\n",
       " [653, 2696, 7354, 6867, 1458],\n",
       " [653, 9471, 5337, 7839],\n",
       " [653, 4223, 7354, 9967, 7402],\n",
       " [653, 5275, 3926, 279],\n",
       " [653, 8002, 7120, 3097],\n",
       " [653, 9471, 5322, 3520],\n",
       " [653, 4223, 7354, 2394, 4936],\n",
       " [653, 5275, 1458, 2467, 579],\n",
       " [653, 9471, 1430, 5543, 9825],\n",
       " [653, 4223, 7354, 9150],\n",
       " [653, 8002, 7488, 3520],\n",
       " [653, 9471, 5371, 2172, 4507, 6578]]"
      ]
     },
     "execution_count": 4,
     "metadata": {},
     "output_type": "execute_result"
    }
   ],
   "source": [
    "#one hot representation for every word in the sentence\n",
    "one_hot_repr=[one_hot(words,vocab_size) for words in sent]\n",
    "one_hot_repr"
   ]
  },
  {
   "cell_type": "code",
   "execution_count": 5,
   "id": "f6f2d83b",
   "metadata": {},
   "outputs": [],
   "source": [
    "# Word embedding repreentation for every sentence\n",
    "from tensorflow.keras.preprocessing.text import Tokenizer\n",
    "from tensorflow.keras.preprocessing.sequence import pad_sequences\n",
    "from tensorflow.keras.models import Sequential"
   ]
  },
  {
   "cell_type": "code",
   "execution_count": 6,
   "id": "7a1a31a3",
   "metadata": {},
   "outputs": [],
   "source": [
    "import numpy as np"
   ]
  },
  {
   "cell_type": "code",
   "execution_count": null,
   "id": "1a15bd38",
   "metadata": {},
   "outputs": [
    {
     "data": {
      "text/plain": [
       "array([[ 653, 2696, 4507,    0,    0,    0,    0,    0,    0,    0],\n",
       "       [8469, 9033, 5491,    0,    0,    0,    0,    0,    0,    0],\n",
       "       [ 653, 9471, 5371, 2172, 3663,    0,    0,    0,    0,    0],\n",
       "       [9665, 1314, 9033, 9400,    0,    0,    0,    0,    0,    0],\n",
       "       [ 653, 4223, 7354,  939, 8215,    0,    0,    0,    0,    0],\n",
       "       [ 653, 8002,  248, 3520,    0,    0,    0,    0,    0,    0],\n",
       "       [7508, 5371, 9033, 8772,    0,    0,    0,    0,    0,    0],\n",
       "       [ 653, 5275, 5253, 2777,    0,    0,    0,    0,    0,    0],\n",
       "       [ 653, 9471, 5000, 9908, 9665,    0,    0,    0,    0,    0],\n",
       "       [4507, 9033, 6634, 4432, 5503,    0,    0,    0,    0,    0],\n",
       "       [ 653, 2696, 7354, 6867, 1458,    0,    0,    0,    0,    0],\n",
       "       [ 653, 9471, 5337, 7839,    0,    0,    0,    0,    0,    0],\n",
       "       [ 653, 4223, 7354, 9967, 7402,    0,    0,    0,    0,    0],\n",
       "       [ 653, 5275, 3926,  279,    0,    0,    0,    0,    0,    0],\n",
       "       [ 653, 8002, 7120, 3097,    0,    0,    0,    0,    0,    0],\n",
       "       [ 653, 9471, 5322, 3520,    0,    0,    0,    0,    0,    0],\n",
       "       [ 653, 4223, 7354, 2394, 4936,    0,    0,    0,    0,    0],\n",
       "       [ 653, 5275, 1458, 2467,  579,    0,    0,    0,    0,    0],\n",
       "       [ 653, 9471, 1430, 5543, 9825,    0,    0,    0,    0,    0],\n",
       "       [ 653, 4223, 7354, 9150,    0,    0,    0,    0,    0,    0],\n",
       "       [ 653, 8002, 7488, 3520,    0,    0,    0,    0,    0,    0],\n",
       "       [ 653, 9471, 5371, 2172, 4507, 6578,    0,    0,    0,    0]],\n",
       "      dtype=int32)"
      ]
     },
     "execution_count": 7,
     "metadata": {},
     "output_type": "execute_result"
    }
   ],
   "source": [
    "#there are  two type of padding one is pre and other is post\n",
    "#pre means padding will be added before the sentence and post means padding will be added after the\n",
    "set_length=10\n",
    "embedd_docs=pad_sequences(one_hot_repr,maxlen=set_length,padding='post')\n",
    "embedd_docs"
   ]
  },
  {
   "cell_type": "code",
   "execution_count": 8,
   "id": "77ddb2b4",
   "metadata": {},
   "outputs": [],
   "source": [
    "#featre representation\n",
    "dim=10\n"
   ]
  },
  {
   "cell_type": "code",
   "execution_count": null,
   "id": "d4e26a0c",
   "metadata": {},
   "outputs": [
    {
     "data": {
      "text/plain": [
       "10000"
      ]
     },
     "execution_count": 12,
     "metadata": {},
     "output_type": "execute_result"
    }
   ],
   "source": [
    "set_length"
   ]
  },
  {
   "cell_type": "code",
   "execution_count": 13,
   "id": "e588a2e6",
   "metadata": {},
   "outputs": [
    {
     "name": "stderr",
     "output_type": "stream",
     "text": [
      "d:\\GenAi\\UdemyCourse\\IMDB\\IMDB_Movie_Review\\venv\\lib\\site-packages\\keras\\src\\layers\\core\\embedding.py:97: UserWarning: Argument `input_length` is deprecated. Just remove it.\n",
      "  warnings.warn(\n"
     ]
    }
   ],
   "source": [
    "\n",
    "from tensorflow.keras.layers import Embedding\n",
    "model=Sequential()\n",
    "model.add(Embedding(vocab_size,dim,input_length=set_length))\n",
    "model.compile(optimizer='adam',loss='mse',metrics=['accuracy'])\n"
   ]
  },
  {
   "cell_type": "code",
   "execution_count": 14,
   "id": "de666d45",
   "metadata": {},
   "outputs": [
    {
     "data": {
      "text/html": [
       "<pre style=\"white-space:pre;overflow-x:auto;line-height:normal;font-family:Menlo,'DejaVu Sans Mono',consolas,'Courier New',monospace\"><span style=\"font-weight: bold\">Model: \"sequential_2\"</span>\n",
       "</pre>\n"
      ],
      "text/plain": [
       "\u001b[1mModel: \"sequential_2\"\u001b[0m\n"
      ]
     },
     "metadata": {},
     "output_type": "display_data"
    },
    {
     "data": {
      "text/html": [
       "<pre style=\"white-space:pre;overflow-x:auto;line-height:normal;font-family:Menlo,'DejaVu Sans Mono',consolas,'Courier New',monospace\">┏━━━━━━━━━━━━━━━━━━━━━━━━━━━━━━━━━┳━━━━━━━━━━━━━━━━━━━━━━━━┳━━━━━━━━━━━━━━━┓\n",
       "┃<span style=\"font-weight: bold\"> Layer (type)                    </span>┃<span style=\"font-weight: bold\"> Output Shape           </span>┃<span style=\"font-weight: bold\">       Param # </span>┃\n",
       "┡━━━━━━━━━━━━━━━━━━━━━━━━━━━━━━━━━╇━━━━━━━━━━━━━━━━━━━━━━━━╇━━━━━━━━━━━━━━━┩\n",
       "│ embedding_1 (<span style=\"color: #0087ff; text-decoration-color: #0087ff\">Embedding</span>)         │ ?                      │   <span style=\"color: #00af00; text-decoration-color: #00af00\">0</span> (unbuilt) │\n",
       "└─────────────────────────────────┴────────────────────────┴───────────────┘\n",
       "</pre>\n"
      ],
      "text/plain": [
       "┏━━━━━━━━━━━━━━━━━━━━━━━━━━━━━━━━━┳━━━━━━━━━━━━━━━━━━━━━━━━┳━━━━━━━━━━━━━━━┓\n",
       "┃\u001b[1m \u001b[0m\u001b[1mLayer (type)                   \u001b[0m\u001b[1m \u001b[0m┃\u001b[1m \u001b[0m\u001b[1mOutput Shape          \u001b[0m\u001b[1m \u001b[0m┃\u001b[1m \u001b[0m\u001b[1m      Param #\u001b[0m\u001b[1m \u001b[0m┃\n",
       "┡━━━━━━━━━━━━━━━━━━━━━━━━━━━━━━━━━╇━━━━━━━━━━━━━━━━━━━━━━━━╇━━━━━━━━━━━━━━━┩\n",
       "│ embedding_1 (\u001b[38;5;33mEmbedding\u001b[0m)         │ ?                      │   \u001b[38;5;34m0\u001b[0m (unbuilt) │\n",
       "└─────────────────────────────────┴────────────────────────┴───────────────┘\n"
      ]
     },
     "metadata": {},
     "output_type": "display_data"
    },
    {
     "data": {
      "text/html": [
       "<pre style=\"white-space:pre;overflow-x:auto;line-height:normal;font-family:Menlo,'DejaVu Sans Mono',consolas,'Courier New',monospace\"><span style=\"font-weight: bold\"> Total params: </span><span style=\"color: #00af00; text-decoration-color: #00af00\">0</span> (0.00 B)\n",
       "</pre>\n"
      ],
      "text/plain": [
       "\u001b[1m Total params: \u001b[0m\u001b[38;5;34m0\u001b[0m (0.00 B)\n"
      ]
     },
     "metadata": {},
     "output_type": "display_data"
    },
    {
     "data": {
      "text/html": [
       "<pre style=\"white-space:pre;overflow-x:auto;line-height:normal;font-family:Menlo,'DejaVu Sans Mono',consolas,'Courier New',monospace\"><span style=\"font-weight: bold\"> Trainable params: </span><span style=\"color: #00af00; text-decoration-color: #00af00\">0</span> (0.00 B)\n",
       "</pre>\n"
      ],
      "text/plain": [
       "\u001b[1m Trainable params: \u001b[0m\u001b[38;5;34m0\u001b[0m (0.00 B)\n"
      ]
     },
     "metadata": {},
     "output_type": "display_data"
    },
    {
     "data": {
      "text/html": [
       "<pre style=\"white-space:pre;overflow-x:auto;line-height:normal;font-family:Menlo,'DejaVu Sans Mono',consolas,'Courier New',monospace\"><span style=\"font-weight: bold\"> Non-trainable params: </span><span style=\"color: #00af00; text-decoration-color: #00af00\">0</span> (0.00 B)\n",
       "</pre>\n"
      ],
      "text/plain": [
       "\u001b[1m Non-trainable params: \u001b[0m\u001b[38;5;34m0\u001b[0m (0.00 B)\n"
      ]
     },
     "metadata": {},
     "output_type": "display_data"
    }
   ],
   "source": [
    "model.summary()"
   ]
  },
  {
   "cell_type": "code",
   "execution_count": 15,
   "id": "a4c8433e",
   "metadata": {},
   "outputs": [
    {
     "name": "stdout",
     "output_type": "stream",
     "text": [
      "\u001b[1m1/1\u001b[0m \u001b[32m━━━━━━━━━━━━━━━━━━━━\u001b[0m\u001b[37m\u001b[0m \u001b[1m0s\u001b[0m 128ms/step\n"
     ]
    },
    {
     "data": {
      "text/plain": [
       "array([[[-0.03979846, -0.00042754,  0.00901643, ..., -0.02785384,\n",
       "          0.0085482 ,  0.03572762],\n",
       "        [ 0.02885773,  0.01650939, -0.0119619 , ..., -0.02291697,\n",
       "         -0.00195092, -0.04640323],\n",
       "        [ 0.03425237,  0.03828451,  0.0497008 , ...,  0.00723834,\n",
       "         -0.0320828 ,  0.03914303],\n",
       "        ...,\n",
       "        [-0.04207595, -0.03579729,  0.02515293, ..., -0.03061792,\n",
       "         -0.02307006,  0.0129423 ],\n",
       "        [-0.04207595, -0.03579729,  0.02515293, ..., -0.03061792,\n",
       "         -0.02307006,  0.0129423 ],\n",
       "        [-0.04207595, -0.03579729,  0.02515293, ..., -0.03061792,\n",
       "         -0.02307006,  0.0129423 ]],\n",
       "\n",
       "       [[ 0.04298962, -0.03810285, -0.02640588, ..., -0.00837958,\n",
       "          0.00824455, -0.02460268],\n",
       "        [-0.01113999, -0.01071645, -0.03554193, ..., -0.02307397,\n",
       "         -0.02306324, -0.03490034],\n",
       "        [ 0.00398393, -0.02850868,  0.0154731 , ...,  0.03280493,\n",
       "          0.00032302,  0.01883698],\n",
       "        ...,\n",
       "        [-0.04207595, -0.03579729,  0.02515293, ..., -0.03061792,\n",
       "         -0.02307006,  0.0129423 ],\n",
       "        [-0.04207595, -0.03579729,  0.02515293, ..., -0.03061792,\n",
       "         -0.02307006,  0.0129423 ],\n",
       "        [-0.04207595, -0.03579729,  0.02515293, ..., -0.03061792,\n",
       "         -0.02307006,  0.0129423 ]],\n",
       "\n",
       "       [[-0.03979846, -0.00042754,  0.00901643, ..., -0.02785384,\n",
       "          0.0085482 ,  0.03572762],\n",
       "        [ 0.00086405,  0.03817188, -0.03303172, ...,  0.03904468,\n",
       "         -0.02475286,  0.03198925],\n",
       "        [ 0.00633702,  0.02703654, -0.02685672, ..., -0.03911864,\n",
       "         -0.02722148, -0.01338493],\n",
       "        ...,\n",
       "        [-0.04207595, -0.03579729,  0.02515293, ..., -0.03061792,\n",
       "         -0.02307006,  0.0129423 ],\n",
       "        [-0.04207595, -0.03579729,  0.02515293, ..., -0.03061792,\n",
       "         -0.02307006,  0.0129423 ],\n",
       "        [-0.04207595, -0.03579729,  0.02515293, ..., -0.03061792,\n",
       "         -0.02307006,  0.0129423 ]],\n",
       "\n",
       "       ...,\n",
       "\n",
       "       [[-0.03979846, -0.00042754,  0.00901643, ..., -0.02785384,\n",
       "          0.0085482 ,  0.03572762],\n",
       "        [ 0.0122555 ,  0.04641717,  0.03684275, ...,  0.02152176,\n",
       "         -0.01624008,  0.0157709 ],\n",
       "        [ 0.0123396 ,  0.02773005, -0.01500168, ..., -0.01229329,\n",
       "         -0.01674471,  0.0152954 ],\n",
       "        ...,\n",
       "        [-0.04207595, -0.03579729,  0.02515293, ..., -0.03061792,\n",
       "         -0.02307006,  0.0129423 ],\n",
       "        [-0.04207595, -0.03579729,  0.02515293, ..., -0.03061792,\n",
       "         -0.02307006,  0.0129423 ],\n",
       "        [-0.04207595, -0.03579729,  0.02515293, ..., -0.03061792,\n",
       "         -0.02307006,  0.0129423 ]],\n",
       "\n",
       "       [[-0.03979846, -0.00042754,  0.00901643, ..., -0.02785384,\n",
       "          0.0085482 ,  0.03572762],\n",
       "        [-0.00244273, -0.04428184, -0.0163152 , ..., -0.01181214,\n",
       "         -0.00047238,  0.03599005],\n",
       "        [-0.00422894, -0.04714876,  0.0043825 , ..., -0.03129506,\n",
       "          0.03965743,  0.03126936],\n",
       "        ...,\n",
       "        [-0.04207595, -0.03579729,  0.02515293, ..., -0.03061792,\n",
       "         -0.02307006,  0.0129423 ],\n",
       "        [-0.04207595, -0.03579729,  0.02515293, ..., -0.03061792,\n",
       "         -0.02307006,  0.0129423 ],\n",
       "        [-0.04207595, -0.03579729,  0.02515293, ..., -0.03061792,\n",
       "         -0.02307006,  0.0129423 ]],\n",
       "\n",
       "       [[-0.03979846, -0.00042754,  0.00901643, ..., -0.02785384,\n",
       "          0.0085482 ,  0.03572762],\n",
       "        [ 0.00086405,  0.03817188, -0.03303172, ...,  0.03904468,\n",
       "         -0.02475286,  0.03198925],\n",
       "        [ 0.00633702,  0.02703654, -0.02685672, ..., -0.03911864,\n",
       "         -0.02722148, -0.01338493],\n",
       "        ...,\n",
       "        [-0.04207595, -0.03579729,  0.02515293, ..., -0.03061792,\n",
       "         -0.02307006,  0.0129423 ],\n",
       "        [-0.04207595, -0.03579729,  0.02515293, ..., -0.03061792,\n",
       "         -0.02307006,  0.0129423 ],\n",
       "        [-0.04207595, -0.03579729,  0.02515293, ..., -0.03061792,\n",
       "         -0.02307006,  0.0129423 ]]], dtype=float32)"
      ]
     },
     "execution_count": 15,
     "metadata": {},
     "output_type": "execute_result"
    }
   ],
   "source": [
    "model.predict(embedd_docs)"
   ]
  },
  {
   "cell_type": "code",
   "execution_count": 18,
   "id": "fab26b16",
   "metadata": {},
   "outputs": [
    {
     "name": "stdout",
     "output_type": "stream",
     "text": [
      "\u001b[1m1/1\u001b[0m \u001b[32m━━━━━━━━━━━━━━━━━━━━\u001b[0m\u001b[37m\u001b[0m \u001b[1m0s\u001b[0m 38ms/step\n"
     ]
    },
    {
     "data": {
      "text/plain": [
       "array([[[-0.03979846, -0.00042754,  0.00901643, -0.01072101,\n",
       "         -0.00275441, -0.00064746, -0.04718089, -0.02785384,\n",
       "          0.0085482 ,  0.03572762],\n",
       "        [ 0.02885773,  0.01650939, -0.0119619 , -0.01921855,\n",
       "         -0.02200877,  0.01908144,  0.02516248, -0.02291697,\n",
       "         -0.00195092, -0.04640323],\n",
       "        [ 0.03425237,  0.03828451,  0.0497008 , -0.03302759,\n",
       "         -0.01657081, -0.03908274,  0.01172577,  0.00723834,\n",
       "         -0.0320828 ,  0.03914303],\n",
       "        [-0.04207595, -0.03579729,  0.02515293, -0.02363631,\n",
       "          0.02244438,  0.0041879 , -0.00345731, -0.03061792,\n",
       "         -0.02307006,  0.0129423 ],\n",
       "        [-0.04207595, -0.03579729,  0.02515293, -0.02363631,\n",
       "          0.02244438,  0.0041879 , -0.00345731, -0.03061792,\n",
       "         -0.02307006,  0.0129423 ],\n",
       "        [-0.04207595, -0.03579729,  0.02515293, -0.02363631,\n",
       "          0.02244438,  0.0041879 , -0.00345731, -0.03061792,\n",
       "         -0.02307006,  0.0129423 ],\n",
       "        [-0.04207595, -0.03579729,  0.02515293, -0.02363631,\n",
       "          0.02244438,  0.0041879 , -0.00345731, -0.03061792,\n",
       "         -0.02307006,  0.0129423 ],\n",
       "        [-0.04207595, -0.03579729,  0.02515293, -0.02363631,\n",
       "          0.02244438,  0.0041879 , -0.00345731, -0.03061792,\n",
       "         -0.02307006,  0.0129423 ],\n",
       "        [-0.04207595, -0.03579729,  0.02515293, -0.02363631,\n",
       "          0.02244438,  0.0041879 , -0.00345731, -0.03061792,\n",
       "         -0.02307006,  0.0129423 ],\n",
       "        [-0.04207595, -0.03579729,  0.02515293, -0.02363631,\n",
       "          0.02244438,  0.0041879 , -0.00345731, -0.03061792,\n",
       "         -0.02307006,  0.0129423 ]]], dtype=float32)"
      ]
     },
     "execution_count": 18,
     "metadata": {},
     "output_type": "execute_result"
    }
   ],
   "source": [
    "model.predict(embedd_docs[0].reshape(1,10))"
   ]
  },
  {
   "cell_type": "code",
   "execution_count": null,
   "id": "e974a219",
   "metadata": {},
   "outputs": [],
   "source": []
  }
 ],
 "metadata": {
  "kernelspec": {
   "display_name": "Python 3",
   "language": "python",
   "name": "python3"
  },
  "language_info": {
   "codemirror_mode": {
    "name": "ipython",
    "version": 3
   },
   "file_extension": ".py",
   "mimetype": "text/x-python",
   "name": "python",
   "nbconvert_exporter": "python",
   "pygments_lexer": "ipython3",
   "version": "3.10.18"
  }
 },
 "nbformat": 4,
 "nbformat_minor": 5
}
